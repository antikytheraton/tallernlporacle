{
 "cells": [
  {
   "cell_type": "code",
   "execution_count": 4,
   "metadata": {
    "collapsed": true,
    "deletable": true,
    "editable": true
   },
   "outputs": [],
   "source": [
    "from sklearn.externals import joblib\n",
    "def frase2lista(frase):\n",
    "    return ['-','-']+frase.split(\" \")+['-','-']\n"
   ]
  },
  {
   "cell_type": "code",
   "execution_count": 5,
   "metadata": {
    "collapsed": true,
    "deletable": true,
    "editable": true
   },
   "outputs": [],
   "source": [
    "def prepara_frase(words):\n",
    "    features=[]\n",
    "    feature={}\n",
    "    for ind,word in enumerate(words):\n",
    "        if word!='-' and  word!='':\n",
    "            feature['0']=words[ind-2]\n",
    "            feature['1']=words[ind-1]\n",
    "            feature['2']=words[ind]\n",
    "            feature['3']=words[ind+1]\n",
    "            feature['4']=words[ind+2]\n",
    "            features.append(feature)\n",
    "            feature={}\n",
    "    return features\n"
   ]
  },
  {
   "cell_type": "code",
   "execution_count": 9,
   "metadata": {
    "collapsed": true,
    "deletable": true,
    "editable": true
   },
   "outputs": [],
   "source": [
    "def getNer(frase):\n",
    "    hash_path = \"vectorizer.pkl\"\n",
    "    clf_path = \"clasifier.pkl\"\n",
    "    clf = joblib.load(clf_path)\n",
    "    vectorizer=joblib.load(hash_path)\n",
    "    lista=frase2lista(frase)\n",
    "    features=prepara_frase(lista)\n",
    "    features=vectorizer.transform(features)\n",
    "    clases=clf.predict(features)\n",
    "    return lista,clases"
   ]
  },
  {
   "cell_type": "code",
   "execution_count": 10,
   "metadata": {
    "collapsed": false,
    "deletable": true,
    "editable": true
   },
   "outputs": [
    {
     "name": "stdout",
     "output_type": "stream",
     "text": [
      "(['-', '-', 'anhelo', 'una', 'cerveza', '-', '-'], array(['vr', 'ad', 'pr'], \n",
      "      dtype='<U3'))\n"
     ]
    }
   ],
   "source": [
    "entities=getNer(\"anhelo una cerveza\")\n",
    "print(entities)   "
   ]
  },
  {
   "cell_type": "code",
   "execution_count": null,
   "metadata": {
    "collapsed": true,
    "deletable": true,
    "editable": true
   },
   "outputs": [],
   "source": []
  }
 ],
 "metadata": {
  "kernelspec": {
   "display_name": "Python 3",
   "language": "python",
   "name": "python3"
  },
  "language_info": {
   "codemirror_mode": {
    "name": "ipython",
    "version": 3
   },
   "file_extension": ".py",
   "mimetype": "text/x-python",
   "name": "python",
   "nbconvert_exporter": "python",
   "pygments_lexer": "ipython3",
   "version": "3.5.2"
  }
 },
 "nbformat": 4,
 "nbformat_minor": 2
}
